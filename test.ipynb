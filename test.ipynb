{
 "cells": [
  {
   "cell_type": "code",
   "execution_count": 29,
   "id": "8b141de8",
   "metadata": {},
   "outputs": [],
   "source": [
    "import os\n",
    "import configparser\n",
    "from plexapi.server import PlexServer\n",
    "from plexapi.myplex import MyPlexAccount\n",
    "from plexapi.library import LibrarySection\n",
    "from datetime import datetime, timedelta\n",
    "from ast import literal_eval"
   ]
  },
  {
   "cell_type": "code",
   "execution_count": 30,
   "id": "1d23e84c",
   "metadata": {},
   "outputs": [],
   "source": [
    "# Load the config file\n",
    "config_path = \"config.ini\"\n",
    "if not os.path.isfile(config_path):\n",
    "    raise FileNotFoundError(f\"Config file not found at {config_path}\")\n",
    "config = configparser.ConfigParser()\n",
    "config.read(config_path)\n",
    "\n",
    "verbose = config.getboolean(\"DEFAULT\", \"verbose\")\n",
    "dry_run = config.getboolean(\"DEFAULT\", \"dry_run\")"
   ]
  },
  {
   "cell_type": "code",
   "execution_count": 31,
   "id": "b9db568f",
   "metadata": {},
   "outputs": [],
   "source": [
    "server = PlexServer(\n",
    "    baseurl=config.get(\"auth\", \"server_url\"),\n",
    "    token=config.get(\"auth\", \"token\"),\n",
    ")"
   ]
  },
  {
   "cell_type": "code",
   "execution_count": 32,
   "id": "d2244f8d",
   "metadata": {},
   "outputs": [],
   "source": [
    "account: MyPlexAccount = server.myPlexAccount()"
   ]
  },
  {
   "cell_type": "code",
   "execution_count": 33,
   "id": "8dc8151f",
   "metadata": {},
   "outputs": [
    {
     "data": {
      "text/plain": [
       "[<Show:nan:Bones>,\n",
       " <Show:nan:2-Broke-Girls>,\n",
       " <Show:nan:Gen-V>,\n",
       " <Movie:nan:The-Reason-I-Jump>,\n",
       " <Show:nan:Murderbot>,\n",
       " <Movie:nan:Ballerina>,\n",
       " <Movie:nan:Parasite>,\n",
       " <Movie:nan:The-Old-Guard-2>,\n",
       " <Movie:nan:Shrek-5>,\n",
       " <Show:nan:Dune:-Prophecy>,\n",
       " <Show:nan:The-Righteous-Gemsto>,\n",
       " <Movie:nan:The-Martian>,\n",
       " <Movie:nan:My-Old-Ass>,\n",
       " <Show:nan:ONE-PIECE-(2023)>,\n",
       " <Movie:nan:The-Wild-Robot>,\n",
       " <Movie:nan:Emilia-Pérez>,\n",
       " <Show:nan:The-Rookie>,\n",
       " <Show:nan:Severance>,\n",
       " <Show:nan:High-Potential>]"
      ]
     },
     "execution_count": 33,
     "metadata": {},
     "output_type": "execute_result"
    }
   ],
   "source": [
    "account.watchlist()"
   ]
  },
  {
   "cell_type": "code",
   "execution_count": 34,
   "id": "7cc94650",
   "metadata": {},
   "outputs": [
    {
     "name": "stdout",
     "output_type": "stream",
     "text": [
      "collection://97f9fb38-5cc0-444c-95bf-2e592080e59b\n",
      "Barbie: Through History\n"
     ]
    }
   ],
   "source": [
    "movies_section: LibrarySection = server.library.section(\"movies\")\n",
    "collections = movies_section.collections()\n",
    "\n",
    "print(collections[0].guid)\n",
    "print(collections[0].title)"
   ]
  },
  {
   "cell_type": "code",
   "execution_count": 41,
   "id": "11fc90b3",
   "metadata": {},
   "outputs": [],
   "source": [
    "collection = literal_eval(config.get(\"movies\", \"keep_collections\"))\n",
    "col = movies_section.collection(title=collection[0])\n"
   ]
  },
  {
   "cell_type": "code",
   "execution_count": 43,
   "id": "2c213bed",
   "metadata": {},
   "outputs": [
    {
     "data": {
      "text/plain": [
       "[<Movie:678:Barbie-in-the-Nutcra>,\n",
       " <Movie:676:Barbie-as-Rapunzel>,\n",
       " <Movie:719:Barbie-as-The-Prince>,\n",
       " <Movie:746:Barbie-in-the-12-Dan>,\n",
       " <Movie:717:Barbie-and-the-Diamo>,\n",
       " <Movie:710:Barbie-in-'A-Christm>,\n",
       " <Movie:745:Barbie:-A-Fashion-Fa>,\n",
       " <Movie:4:Barbie:-A-Fairy-Secr>,\n",
       " <Movie:747:Barbie:-Princess-Cha>,\n",
       " <Movie:705:Barbie-in-the-Pink-S>,\n",
       " <Movie:703:Barbie-Mariposa-and->,\n",
       " <Movie:708:Barbie-&-Her-Sisters>,\n",
       " <Movie:706:Barbie:-The-Pearl-Pr>]"
      ]
     },
     "execution_count": 43,
     "metadata": {},
     "output_type": "execute_result"
    }
   ],
   "source": [
    "col.items()"
   ]
  }
 ],
 "metadata": {
  "kernelspec": {
   "display_name": ".venv",
   "language": "python",
   "name": "python3"
  },
  "language_info": {
   "codemirror_mode": {
    "name": "ipython",
    "version": 3
   },
   "file_extension": ".py",
   "mimetype": "text/x-python",
   "name": "python",
   "nbconvert_exporter": "python",
   "pygments_lexer": "ipython3",
   "version": "3.12.3"
  }
 },
 "nbformat": 4,
 "nbformat_minor": 5
}
